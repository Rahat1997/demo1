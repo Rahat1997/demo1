{
 "cells": [
  {
   "cell_type": "code",
   "execution_count": 1,
   "id": "38daabac",
   "metadata": {},
   "outputs": [],
   "source": [
    "paragraph = \"\"\"I have three visions for India. In 3000 years of our history, people from all over \n",
    "               the world have come and invaded us, captured our lands, conquered our minds. \n",
    "               From Alexander onwards, the Greeks, the Turks, the Moguls, the Portuguese, the British,\n",
    "               the French, the Dutch, all of them came and looted us, took over what was ours. \n",
    "               Yet we have not done this to any other nation. We have not conquered anyone. \n",
    "               We have not grabbed their land, their culture, \n",
    "               their history and tried to enforce our way of life on them. \n",
    "               Why? Because we respect the freedom of others.That is why my \n",
    "               first vision is that of freedom. I believe that India got its first vision of \n",
    "               this in 1857, when we started the War of Independence. It is this freedom that\n",
    "               we must protect and nurture and build on. If we are not free, no one will respect us.\n",
    "               My second vision for India’s development. For fifty years we have been a developing nation.\n",
    "               It is time we see ourselves as a developed nation. We are among the top 5 nations of the world\n",
    "               in terms of GDP. We have a 10 percent growth rate in most areas. Our poverty levels are falling.\n",
    "               Our achievements are being globally recognised today. Yet we lack the self-confidence to\n",
    "               see ourselves as a developed nation, self-reliant and self-assured. Isn’t this incorrect?\n",
    "               I have a third vision. India must stand up to the world. Because I believe that unless India \n",
    "               stands up to the world, no one will respect us. Only strength respects strength. We must be \n",
    "               strong not only as a military power but also as an economic power. Both must go hand-in-hand. \n",
    "               My good fortune was to have worked with three great minds. Dr. Vikram Sarabhai of the Dept. of \n",
    "               space, Professor Satish Dhawan, who succeeded him and Dr. Brahm Prakash, father of nuclear material.\n",
    "               I was lucky to have worked with all three of them closely and consider this the great opportunity of my life. \n",
    "               I see four milestones in my career\"\"\""
   ]
  },
  {
   "cell_type": "code",
   "execution_count": null,
   "id": "2bd1aa5a",
   "metadata": {},
   "outputs": [],
   "source": []
  },
  {
   "cell_type": "code",
   "execution_count": null,
   "id": "6307b8b1",
   "metadata": {},
   "outputs": [],
   "source": []
  },
  {
   "cell_type": "code",
   "execution_count": 2,
   "id": "dc3e25ed",
   "metadata": {},
   "outputs": [],
   "source": [
    "import nltk\n",
    "import re \n",
    "from nltk.corpus import stopwords\n",
    "from gensim.models import Word2Vec"
   ]
  },
  {
   "cell_type": "code",
   "execution_count": 3,
   "id": "79c77130",
   "metadata": {},
   "outputs": [],
   "source": [
    "text = re.sub(r'\\[[0-9]*\\]',' ', paragraph)\n",
    "text = re.sub(r'\\s+',' ',text)\n",
    "text= text.lower()\n",
    "text =re.sub(r'\\d',' ',text)\n",
    "text = re.sub(r'\\s',' ', text)\n"
   ]
  },
  {
   "cell_type": "code",
   "execution_count": 4,
   "id": "e0e9b8e5",
   "metadata": {},
   "outputs": [
    {
     "data": {
      "text/plain": [
       "['i have three visions for india.',\n",
       " 'in      years of our history, people from all over the world have come and invaded us, captured our lands, conquered our minds.',\n",
       " 'from alexander onwards, the greeks, the turks, the moguls, the portuguese, the british, the french, the dutch, all of them came and looted us, took over what was ours.',\n",
       " 'yet we have not done this to any other nation.',\n",
       " 'we have not conquered anyone.',\n",
       " 'we have not grabbed their land, their culture, their history and tried to enforce our way of life on them.',\n",
       " 'why?',\n",
       " 'because we respect the freedom of others.that is why my first vision is that of freedom.',\n",
       " 'i believe that india got its first vision of this in     , when we started the war of independence.',\n",
       " 'it is this freedom that we must protect and nurture and build on.',\n",
       " 'if we are not free, no one will respect us.',\n",
       " 'my second vision for india’s development.',\n",
       " 'for fifty years we have been a developing nation.',\n",
       " 'it is time we see ourselves as a developed nation.',\n",
       " 'we are among the top   nations of the world in terms of gdp.',\n",
       " 'we have a    percent growth rate in most areas.',\n",
       " 'our poverty levels are falling.',\n",
       " 'our achievements are being globally recognised today.',\n",
       " 'yet we lack the self-confidence to see ourselves as a developed nation, self-reliant and self-assured.',\n",
       " 'isn’t this incorrect?',\n",
       " 'i have a third vision.',\n",
       " 'india must stand up to the world.',\n",
       " 'because i believe that unless india stands up to the world, no one will respect us.',\n",
       " 'only strength respects strength.',\n",
       " 'we must be strong not only as a military power but also as an economic power.',\n",
       " 'both must go hand-in-hand.',\n",
       " 'my good fortune was to have worked with three great minds.',\n",
       " 'dr. vikram sarabhai of the dept.',\n",
       " 'of space, professor satish dhawan, who succeeded him and dr. brahm prakash, father of nuclear material.',\n",
       " 'i was lucky to have worked with all three of them closely and consider this the great opportunity of my life.',\n",
       " 'i see four milestones in my career']"
      ]
     },
     "execution_count": 4,
     "metadata": {},
     "output_type": "execute_result"
    }
   ],
   "source": [
    "sentences = nltk.sent_tokenize(text)\n",
    "sentences"
   ]
  },
  {
   "cell_type": "code",
   "execution_count": 5,
   "id": "6bf493c6",
   "metadata": {},
   "outputs": [],
   "source": [
    "sentences = nltk.sent_tokenize(text)"
   ]
  },
  {
   "cell_type": "code",
   "execution_count": 6,
   "id": "4b742800",
   "metadata": {},
   "outputs": [],
   "source": [
    "sentences = [nltk.word_tokenize(sentence) for sentence in sentences]"
   ]
  },
  {
   "cell_type": "code",
   "execution_count": 7,
   "id": "7f9f2ebc",
   "metadata": {},
   "outputs": [],
   "source": [
    "for i in range(len(sentences)):\n",
    "    sentences[i] = [word for word in sentences[i] if word not in stopwords.words('english')]"
   ]
  },
  {
   "cell_type": "code",
   "execution_count": null,
   "id": "fab5c109",
   "metadata": {},
   "outputs": [],
   "source": []
  },
  {
   "cell_type": "code",
   "execution_count": 8,
   "id": "a4b1b5ce",
   "metadata": {},
   "outputs": [],
   "source": [
    "model = Word2Vec(sentences,min_count=1)"
   ]
  },
  {
   "cell_type": "code",
   "execution_count": 9,
   "id": "b03ec585",
   "metadata": {},
   "outputs": [
    {
     "data": {
      "text/plain": [
       "{'.': 0,\n",
       " ',': 1,\n",
       " 'india': 2,\n",
       " 'vision': 3,\n",
       " 'must': 4,\n",
       " 'nation': 5,\n",
       " 'world': 6,\n",
       " 'us': 7,\n",
       " 'three': 8,\n",
       " 'freedom': 9,\n",
       " 'respect': 10,\n",
       " 'see': 11,\n",
       " 'first': 12,\n",
       " 'power': 13,\n",
       " 'yet': 14,\n",
       " '’': 15,\n",
       " 'strength': 16,\n",
       " 'worked': 17,\n",
       " '?': 18,\n",
       " 'life': 19,\n",
       " 'believe': 20,\n",
       " 'dr.': 21,\n",
       " 'great': 22,\n",
       " 'minds': 23,\n",
       " 'one': 24,\n",
       " 'years': 25,\n",
       " 'history': 26,\n",
       " 'developed': 27,\n",
       " 'conquered': 28,\n",
       " 'protect': 29,\n",
       " 'others.that': 30,\n",
       " 'war': 31,\n",
       " 'nurture': 32,\n",
       " 'independence': 33,\n",
       " 'build': 34,\n",
       " 'free': 35,\n",
       " 'tried': 36,\n",
       " 'got': 37,\n",
       " 'started': 38,\n",
       " 'way': 39,\n",
       " 'enforce': 40,\n",
       " 'took': 41,\n",
       " 'culture': 42,\n",
       " 'turks': 43,\n",
       " 'visions': 44,\n",
       " 'people': 45,\n",
       " 'come': 46,\n",
       " 'invaded': 47,\n",
       " 'captured': 48,\n",
       " 'lands': 49,\n",
       " 'alexander': 50,\n",
       " 'onwards': 51,\n",
       " 'greeks': 52,\n",
       " 'moguls': 53,\n",
       " 'land': 54,\n",
       " 'portuguese': 55,\n",
       " 'british': 56,\n",
       " 'french': 57,\n",
       " 'dutch': 58,\n",
       " 'came': 59,\n",
       " 'looted': 60,\n",
       " 'done': 61,\n",
       " 'anyone': 62,\n",
       " 'grabbed': 63,\n",
       " 'second': 64,\n",
       " 'career': 65,\n",
       " 'development': 66,\n",
       " 'respects': 67,\n",
       " 'military': 68,\n",
       " 'also': 69,\n",
       " 'economic': 70,\n",
       " 'go': 71,\n",
       " 'hand-in-hand': 72,\n",
       " 'good': 73,\n",
       " 'fortune': 74,\n",
       " 'vikram': 75,\n",
       " 'sarabhai': 76,\n",
       " 'dept': 77,\n",
       " 'space': 78,\n",
       " 'professor': 79,\n",
       " 'satish': 80,\n",
       " 'dhawan': 81,\n",
       " 'succeeded': 82,\n",
       " 'brahm': 83,\n",
       " 'prakash': 84,\n",
       " 'father': 85,\n",
       " 'nuclear': 86,\n",
       " 'material': 87,\n",
       " 'lucky': 88,\n",
       " 'closely': 89,\n",
       " 'consider': 90,\n",
       " 'opportunity': 91,\n",
       " 'four': 92,\n",
       " 'strong': 93,\n",
       " 'stands': 94,\n",
       " 'fifty': 95,\n",
       " 'unless': 96,\n",
       " 'developing': 97,\n",
       " 'milestones': 98,\n",
       " 'among': 99,\n",
       " 'top': 100,\n",
       " 'nations': 101,\n",
       " 'terms': 102,\n",
       " 'gdp': 103,\n",
       " 'percent': 104,\n",
       " 'growth': 105,\n",
       " 'rate': 106,\n",
       " 'areas': 107,\n",
       " 'poverty': 108,\n",
       " 'levels': 109,\n",
       " 'falling': 110,\n",
       " 'achievements': 111,\n",
       " 'globally': 112,\n",
       " 'recognised': 113,\n",
       " 'today': 114,\n",
       " 'lack': 115,\n",
       " 'self-confidence': 116,\n",
       " 'self-reliant': 117,\n",
       " 'self-assured': 118,\n",
       " 'incorrect': 119,\n",
       " 'third': 120,\n",
       " 'stand': 121,\n",
       " 'time': 122}"
      ]
     },
     "execution_count": 9,
     "metadata": {},
     "output_type": "execute_result"
    }
   ],
   "source": [
    "words = model.wv.key_to_index\n",
    "words"
   ]
  },
  {
   "cell_type": "code",
   "execution_count": 10,
   "id": "66790761",
   "metadata": {},
   "outputs": [
    {
     "data": {
      "text/plain": [
       "100"
      ]
     },
     "execution_count": 10,
     "metadata": {},
     "output_type": "execute_result"
    }
   ],
   "source": [
    "vector = model.wv['war']\n",
    "len(vector)"
   ]
  },
  {
   "cell_type": "code",
   "execution_count": null,
   "id": "d8a482c2",
   "metadata": {},
   "outputs": [],
   "source": []
  },
  {
   "cell_type": "code",
   "execution_count": 11,
   "id": "311c47c8",
   "metadata": {},
   "outputs": [
    {
     "data": {
      "text/plain": [
       "{'.': 0,\n",
       " ',': 1,\n",
       " 'india': 2,\n",
       " 'vision': 3,\n",
       " 'must': 4,\n",
       " 'nation': 5,\n",
       " 'world': 6,\n",
       " 'us': 7,\n",
       " 'three': 8,\n",
       " 'freedom': 9,\n",
       " 'respect': 10,\n",
       " 'see': 11,\n",
       " 'first': 12,\n",
       " 'power': 13,\n",
       " 'yet': 14,\n",
       " '’': 15,\n",
       " 'strength': 16,\n",
       " 'worked': 17,\n",
       " '?': 18,\n",
       " 'life': 19,\n",
       " 'believe': 20,\n",
       " 'dr.': 21,\n",
       " 'great': 22,\n",
       " 'minds': 23,\n",
       " 'one': 24,\n",
       " 'years': 25,\n",
       " 'history': 26,\n",
       " 'developed': 27,\n",
       " 'conquered': 28,\n",
       " 'protect': 29,\n",
       " 'others.that': 30,\n",
       " 'war': 31,\n",
       " 'nurture': 32,\n",
       " 'independence': 33,\n",
       " 'build': 34,\n",
       " 'free': 35,\n",
       " 'tried': 36,\n",
       " 'got': 37,\n",
       " 'started': 38,\n",
       " 'way': 39,\n",
       " 'enforce': 40,\n",
       " 'took': 41,\n",
       " 'culture': 42,\n",
       " 'turks': 43,\n",
       " 'visions': 44,\n",
       " 'people': 45,\n",
       " 'come': 46,\n",
       " 'invaded': 47,\n",
       " 'captured': 48,\n",
       " 'lands': 49,\n",
       " 'alexander': 50,\n",
       " 'onwards': 51,\n",
       " 'greeks': 52,\n",
       " 'moguls': 53,\n",
       " 'land': 54,\n",
       " 'portuguese': 55,\n",
       " 'british': 56,\n",
       " 'french': 57,\n",
       " 'dutch': 58,\n",
       " 'came': 59,\n",
       " 'looted': 60,\n",
       " 'done': 61,\n",
       " 'anyone': 62,\n",
       " 'grabbed': 63,\n",
       " 'second': 64,\n",
       " 'career': 65,\n",
       " 'development': 66,\n",
       " 'respects': 67,\n",
       " 'military': 68,\n",
       " 'also': 69,\n",
       " 'economic': 70,\n",
       " 'go': 71,\n",
       " 'hand-in-hand': 72,\n",
       " 'good': 73,\n",
       " 'fortune': 74,\n",
       " 'vikram': 75,\n",
       " 'sarabhai': 76,\n",
       " 'dept': 77,\n",
       " 'space': 78,\n",
       " 'professor': 79,\n",
       " 'satish': 80,\n",
       " 'dhawan': 81,\n",
       " 'succeeded': 82,\n",
       " 'brahm': 83,\n",
       " 'prakash': 84,\n",
       " 'father': 85,\n",
       " 'nuclear': 86,\n",
       " 'material': 87,\n",
       " 'lucky': 88,\n",
       " 'closely': 89,\n",
       " 'consider': 90,\n",
       " 'opportunity': 91,\n",
       " 'four': 92,\n",
       " 'strong': 93,\n",
       " 'stands': 94,\n",
       " 'fifty': 95,\n",
       " 'unless': 96,\n",
       " 'developing': 97,\n",
       " 'milestones': 98,\n",
       " 'among': 99,\n",
       " 'top': 100,\n",
       " 'nations': 101,\n",
       " 'terms': 102,\n",
       " 'gdp': 103,\n",
       " 'percent': 104,\n",
       " 'growth': 105,\n",
       " 'rate': 106,\n",
       " 'areas': 107,\n",
       " 'poverty': 108,\n",
       " 'levels': 109,\n",
       " 'falling': 110,\n",
       " 'achievements': 111,\n",
       " 'globally': 112,\n",
       " 'recognised': 113,\n",
       " 'today': 114,\n",
       " 'lack': 115,\n",
       " 'self-confidence': 116,\n",
       " 'self-reliant': 117,\n",
       " 'self-assured': 118,\n",
       " 'incorrect': 119,\n",
       " 'third': 120,\n",
       " 'stand': 121,\n",
       " 'time': 122}"
      ]
     },
     "execution_count": 11,
     "metadata": {},
     "output_type": "execute_result"
    }
   ],
   "source": [
    "model.wv.key_to_index\n"
   ]
  },
  {
   "cell_type": "code",
   "execution_count": null,
   "id": "fed70d4a",
   "metadata": {},
   "outputs": [],
   "source": []
  },
  {
   "cell_type": "code",
   "execution_count": 12,
   "id": "a9aab3f3",
   "metadata": {},
   "outputs": [
    {
     "data": {
      "text/plain": [
       "[('unless', 0.2513527572154999),\n",
       " ('moguls', 0.2480589598417282),\n",
       " ('.', 0.2167753428220749),\n",
       " ('visions', 0.21363483369350433),\n",
       " ('development', 0.20419521629810333),\n",
       " ('turks', 0.16215135157108307),\n",
       " ('self-confidence', 0.15579462051391602),\n",
       " ('father', 0.15303701162338257),\n",
       " ('areas', 0.14788691699504852),\n",
       " ('falling', 0.1441386342048645)]"
      ]
     },
     "execution_count": 12,
     "metadata": {},
     "output_type": "execute_result"
    }
   ],
   "source": [
    "similar = model.wv.most_similar('freedom')\n",
    "similar"
   ]
  },
  {
   "cell_type": "code",
   "execution_count": null,
   "id": "bfacb971",
   "metadata": {},
   "outputs": [],
   "source": []
  },
  {
   "cell_type": "code",
   "execution_count": null,
   "id": "c1a87999",
   "metadata": {},
   "outputs": [],
   "source": []
  },
  {
   "cell_type": "code",
   "execution_count": null,
   "id": "a053834c",
   "metadata": {},
   "outputs": [],
   "source": []
  },
  {
   "cell_type": "code",
   "execution_count": null,
   "id": "05851acb",
   "metadata": {},
   "outputs": [],
   "source": []
  }
 ],
 "metadata": {
  "kernelspec": {
   "display_name": "Python 3 (ipykernel)",
   "language": "python",
   "name": "python3"
  },
  "language_info": {
   "codemirror_mode": {
    "name": "ipython",
    "version": 3
   },
   "file_extension": ".py",
   "mimetype": "text/x-python",
   "name": "python",
   "nbconvert_exporter": "python",
   "pygments_lexer": "ipython3",
   "version": "3.9.13"
  }
 },
 "nbformat": 4,
 "nbformat_minor": 5
}
